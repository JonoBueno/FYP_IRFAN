{
 "cells": [
  {
   "cell_type": "code",
   "execution_count": 9,
   "metadata": {},
   "outputs": [],
   "source": [
    "import numpy as np\n",
    "import matplotlib.pyplot as plt\n",
    "import pandas as pd\n",
    "\n",
    "labels = [\n",
    "    0.2,\n",
    "    0.3,\n",
    "    0.4,\n",
    "    0.5,\n",
    "    0.6,\n",
    "    0.7,\n",
    "    0.8,\n",
    "    0.8,\n",
    "    0.9,\n",
    "    1,\n",
    "    1.1,\n",
    "    1.2,\n",
    "    1.3,\n",
    "    1.4,\n",
    "    1.5,\n",
    "    1.6,\n",
    "    1.7,\n",
    "    1.8,\n",
    "    1.9,\n",
    "    2,\n",
    "    2.1,\n",
    "    2.2,\n",
    "    2.3,\n",
    "    2.4,\n",
    "    2.5,\n",
    "    2.6,\n",
    "    2.7,\n",
    "    2.8,\n",
    "    2.9,\n",
    "    3,\n",
    "]\n",
    "df = []\n",
    "masses = []\n",
    "\n",
    "for label in labels:\n",
    "    masses += [label]\n",
    "    df += [pd.read_csv(f\"{label}.data\", sep=\"\\s+\")]\n",
    "masses = np.array(masses)"
   ]
  },
  {
   "cell_type": "code",
   "execution_count": 10,
   "metadata": {},
   "outputs": [
    {
     "name": "stdout",
     "output_type": "stream",
     "text": [
      "(30,)\n"
     ]
    }
   ],
   "source": [
    "print(masses.T.shape)"
   ]
  },
  {
   "cell_type": "code",
   "execution_count": 11,
   "metadata": {},
   "outputs": [],
   "source": [
    "error=[]\n",
    "for pred in labels:\n",
    "\n",
    "    df1=df\n",
    "    masses1=masses\n",
    "    for label in labels:\n",
    "        if label!=pred:\n",
    "            df2=[]\n",
    "            masses2=[]\n",
    "            for i,_ in enumerate(labels):\n",
    "                    df2 += [df[i]]\n",
    "                    masses2 += [masses[i]]\n",
    "\n",
    "\n",
    "    ages = []\n",
    "    lums = []\n",
    "    ages1 = []\n",
    "    lums1 = []\n",
    "\n",
    "    for d in df2:\n",
    "        condition = 10 * d[\"log_LH\"] > 1 * 10 * d[\"log_L\"]\n",
    "        if condition.any():\n",
    "            start_h_burning = d.loc[condition, \"star_age\"].iloc[0]\n",
    "        else:\n",
    "            start_h_burning = None\n",
    "\n",
    "        condition = d[\"center_h1\"] < 1e-6\n",
    "        if condition.any():\n",
    "            end_h_burning = d.loc[condition, \"star_age\"].iloc[0]\n",
    "        else:\n",
    "            end_h_burning = None\n",
    "\n",
    "        d = d[(d[\"star_age\"] > start_h_burning) & (d[\"star_age\"] < end_h_burning)]\n",
    "\n",
    "        ages += [d[\"star_age\"]]\n",
    "        lums += [d[\"log_Lneu\"]]\n",
    "\n",
    "    for d in df1:\n",
    "        condition = 10 * d[\"log_LH\"] > 1 * 10 * d[\"log_L\"]\n",
    "        if condition.any():\n",
    "            start_h_burning = d.loc[condition, \"star_age\"].iloc[0]\n",
    "        else:\n",
    "            start_h_burning = None\n",
    "\n",
    "        condition = d[\"center_h1\"] < 1e-6\n",
    "        if condition.any():\n",
    "            end_h_burning = d.loc[condition, \"star_age\"].iloc[0]\n",
    "        else:\n",
    "            end_h_burning = None\n",
    "\n",
    "        d = d[(d[\"star_age\"] > start_h_burning) & (d[\"star_age\"] < end_h_burning)]\n",
    "\n",
    "        ages1 += [d[\"star_age\"]]\n",
    "        lums1 += [d[\"log_Lneu\"]]\n",
    "\n",
    "    min_length = min(len(lum) for lum in lums)\n",
    "    ages = np.log([age[:min_length] for age in ages])\n",
    "    lums = np.array([lum[:min_length] for lum in lums])\n",
    "\n",
    "    min_length = min(len(lum) for lum in lums1)\n",
    "    ages1 = np.log([age[:min_length] for age in ages1])\n",
    "    lums1 = np.array([lum[:min_length] for lum in lums1])\n",
    "\n",
    "    from sklearn.linear_model import LinearRegression as LnR\n",
    "\n",
    "    output = np.array(\n",
    "        [\n",
    "            *(i for z in zip(ages.T, lums.T) for i in z),\n",
    "        ]\n",
    "    ).T\n",
    "    # print(masses.shape)\n",
    "    # print(ages.shape)\n",
    "    # print(output.shape)\n",
    "    model = LnR()\n",
    "    model.fit(np.array([masses]).T, output)\n",
    "\n",
    "    prediction = model.predict([[pred]])\n",
    "    predicted_ages = prediction[:, ::2]\n",
    "    predicted_lums = prediction[:, 1::2]\n",
    "\n",
    "    e=np.sqrt((predicted_ages.T[:,0]-ages1[[*labels].index(pred)])**2+(predicted_lums.T[:,0]-lums1[[*labels].index(pred)])**2)\n",
    "    # print(e)\n",
    "    se=0\n",
    "    for es in e:\n",
    "        se+=es\n",
    "    error+=[se]\n"
   ]
  },
  {
   "cell_type": "code",
   "execution_count": 12,
   "metadata": {},
   "outputs": [
    {
     "name": "stdout",
     "output_type": "stream",
     "text": [
      "[2792.670064058373, 2230.4205845834813, 845.8930083838887, 687.8223668700125, 471.89467560583745, 246.91273438014207, 212.07107251886592, 212.07107251886592, 365.68257291327416, 462.54999261820484, 508.3393134041623, 684.2634582613845, 858.6730620904125, 1040.4992464538077, 1567.7586687283983, 2504.0822591923356, 2503.931198991685, 2141.5261330096237, 1812.1672821057305, 1221.5507325669455, 1051.459013095274, 730.6217658542478, 681.3210936453362, 728.1305316179763, 958.471548170236, 1204.4422951588097, 1405.2436262547617, 1602.1122628919281, 1833.6066969477486, 1954.4872423146917]\n"
     ]
    }
   ],
   "source": [
    "print(error)"
   ]
  },
  {
   "cell_type": "code",
   "execution_count": 14,
   "metadata": {},
   "outputs": [
    {
     "data": {
      "text/plain": [
       "Text(0.5, 1.0, 'Single Model Error')"
      ]
     },
     "execution_count": 14,
     "metadata": {},
     "output_type": "execute_result"
    },
    {
     "data": {
      "image/png": "[encoded data removed]",
      "text/plain": [
       "<Figure size 640x480 with 1 Axes>"
      ]
     },
     "metadata": {},
     "output_type": "display_data"
    }
   ],
   "source": [
    "plt.scatter(masses,error)\n",
    "plt.xlabel(r\"Mass $M_\\odot$\",fontsize=16)\n",
    "plt.ylabel(r'$\\Sigma$ Offset Error',fontsize=16)\n",
    "plt.xticks(fontsize=16)\n",
    "plt.yticks(fontsize=11)\n",
    "plt.title('Single Model Error',fontsize=16)\n",
    "# plt.ylim(0,2500)"
   ]
  }
 ],
 "metadata": {
  "kernelspec": {
   "display_name": "Python 3",
   "language": "python",
   "name": "python3"
  },
  "language_info": {
   "codemirror_mode": {
    "name": "ipython",
    "version": 3
   },
   "file_extension": ".py",
   "mimetype": "text/x-python",
   "name": "python",
   "nbconvert_exporter": "python",
   "pygments_lexer": "ipython3",
   "version": "3.11.2"
  }
 },
 "nbformat": 4,
 "nbformat_minor": 2
}
